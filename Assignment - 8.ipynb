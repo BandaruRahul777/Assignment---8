{
 "cells": [
  {
   "cell_type": "code",
   "execution_count": null,
   "id": "82b50bf1",
   "metadata": {},
   "outputs": [],
   "source": [
    "Question 1"
   ]
  },
  {
   "cell_type": "code",
   "execution_count": null,
   "id": "556cb940",
   "metadata": {},
   "outputs": [],
   "source": [
    "No, PyInputPlus is not a part of Python Standard Library, it needs to be installed explicitly using the command !pip install\n",
    "PyInputPlus"
   ]
  },
  {
   "cell_type": "code",
   "execution_count": null,
   "id": "47ac6763",
   "metadata": {},
   "outputs": [],
   "source": [
    "Question 2"
   ]
  },
  {
   "cell_type": "code",
   "execution_count": null,
   "id": "9f047652",
   "metadata": {},
   "outputs": [],
   "source": [
    "You can import the module with import pyinputplus as pyip so that you can enter a shorter name when calling the module's\n",
    "functions."
   ]
  },
  {
   "cell_type": "code",
   "execution_count": null,
   "id": "82ef1e6d",
   "metadata": {},
   "outputs": [],
   "source": [
    "Question 3"
   ]
  },
  {
   "cell_type": "code",
   "execution_count": null,
   "id": "27b452b4",
   "metadata": {},
   "outputs": [],
   "source": [
    "inputInt() function Accepts an integer value. This also takes additional parameters min, max, greaterThan and lessThan for\n",
    "bounds. And it always returns an int.\n",
    "\n",
    "Whereas inputFloat() function Accepts a floating-point numeric value. this also takes additional min, max, greaterThan and\n",
    "lessThan parameters. and always returns a float."
   ]
  },
  {
   "cell_type": "code",
   "execution_count": null,
   "id": "2860454f",
   "metadata": {},
   "outputs": [],
   "source": [
    "Question 4"
   ]
  },
  {
   "cell_type": "code",
   "execution_count": null,
   "id": "8f62b99a",
   "metadata": {},
   "outputs": [],
   "source": [
    "PyInputPlus module provides a function called as inputInt() which only returns only integer values. inorder to restrict the\n",
    "input between 0 and 99, i'ii use parameters like min & max to ensure that user enters the values between the defined range only.\n",
    "\n",
    "import pyinputplus as pyip\n",
    "wholenumber = pyip.inputInt(prompt='Enter a number: ', min=0, max=100)\n",
    "print(wholenumber)"
   ]
  },
  {
   "cell_type": "code",
   "execution_count": null,
   "id": "eeba2afb",
   "metadata": {},
   "outputs": [],
   "source": [
    "Question 5"
   ]
  },
  {
   "cell_type": "code",
   "execution_count": null,
   "id": "841ae78f",
   "metadata": {},
   "outputs": [],
   "source": [
    "we can use allowRegexes and blockRegexes keyword arguments to take list of regular expression strings to determine what the\n",
    "pyinputplus function will reject or accept valid input."
   ]
  },
  {
   "cell_type": "code",
   "execution_count": null,
   "id": "36b3fbe2",
   "metadata": {},
   "outputs": [],
   "source": [
    "Question 6"
   ]
  },
  {
   "cell_type": "code",
   "execution_count": null,
   "id": "5cff7284",
   "metadata": {},
   "outputs": [],
   "source": [
    "The statement inputStr(limit=3) will throw two exceptions ValidationException and RetryLimitException. The first exception is\n",
    "thrown because blank values are not allowed by inputStr() function by default. it we want to consider blank values as valid\n",
    "input, we have to set blank=True.\n",
    "\n",
    "The second exception is occured because we have reached the max limit we have specified by using limit parameter. inorder to\n",
    "avoid this exception we can use default parameter to return a default value when max limit is reached."
   ]
  },
  {
   "cell_type": "code",
   "execution_count": null,
   "id": "b83e356a",
   "metadata": {},
   "outputs": [],
   "source": [
    "Question 7"
   ]
  },
  {
   "cell_type": "code",
   "execution_count": null,
   "id": "8329191d",
   "metadata": {},
   "outputs": [],
   "source": [
    "Since the default parameter is set to hello. after blank input is entered three times instead of raising RetryLimitException\n",
    "exception. the function will return hello as response to the calling function"
   ]
  }
 ],
 "metadata": {
  "kernelspec": {
   "display_name": "Python 3 (ipykernel)",
   "language": "python",
   "name": "python3"
  },
  "language_info": {
   "codemirror_mode": {
    "name": "ipython",
    "version": 3
   },
   "file_extension": ".py",
   "mimetype": "text/x-python",
   "name": "python",
   "nbconvert_exporter": "python",
   "pygments_lexer": "ipython3",
   "version": "3.9.7"
  }
 },
 "nbformat": 4,
 "nbformat_minor": 5
}
